{
 "cells": [
  {
   "cell_type": "code",
   "execution_count": null,
   "metadata": {},
   "outputs": [
    {
     "ename": "",
     "evalue": "",
     "output_type": "error",
     "traceback": [
      "\u001b[1;31mRunning cells with 'Python 3.6.0' requires the ipykernel package.\n",
      "\u001b[1;31mRun the following command to install 'ipykernel' into the Python environment. \n",
      "\u001b[1;31mCommand: '/usr/local/bin/python3.6 -m pip install ipykernel -U --user --force-reinstall'"
     ]
    }
   ],
   "source": [
    "#read inventory.txt sep by /t \n",
    "import pandas as pd\n",
    "import json\n",
    "\n",
    "inventory = pd.read_csv('inventory.txt', sep='\\t')\n",
    "inventory['QTY_ON_HND'] = inventory['QTY_ON_HND'].fillna(0)\n",
    "with open('products.json', 'r') as file:\n",
    "    data = json.load(file)\n",
    "\n",
    "for type in data['types']:\n",
    "    for subtype in type['subtypes']:\n",
    "        for products in subtype['products']:\n",
    "            for product in products['products']:\n",
    "                for size in product['sizes']:\n",
    "                    try:\n",
    "                        size['inventory'] = int(inventory[inventory['BARCODE'] == size['id']]['QTY_ON_HND'].values[0])\n",
    "                    except:\n",
    "                        size['inventory'] = 0\n",
    "\n",
    "                    try: \n",
    "                        size['price'] = float(inventory[inventory['BARCODE'] == size['id']]['PRICE_C'].values[0])\n",
    "                    except: \n",
    "                        size['price'] = 100000 \n",
    "\n",
    "\n",
    "with open('data_final.json', 'w') as file:\n",
    "    json.dump(data, file, indent=4)\n",
    "\n"
   ]
  },
  {
   "cell_type": "code",
   "execution_count": 3,
   "metadata": {},
   "outputs": [
    {
     "name": "stdout",
     "output_type": "stream",
     "text": [
      "Defaulting to user installation because normal site-packages is not writeable\n",
      "Requirement already satisfied: pandas in /Users/david/Library/Python/3.9/lib/python/site-packages (1.5.2)\n",
      "Requirement already satisfied: python-dateutil>=2.8.1 in /Users/david/Library/Python/3.9/lib/python/site-packages (from pandas) (2.8.2)\n",
      "Requirement already satisfied: pytz>=2020.1 in /Users/david/Library/Python/3.9/lib/python/site-packages (from pandas) (2022.6)\n",
      "Requirement already satisfied: numpy>=1.20.3 in /Users/david/Library/Python/3.9/lib/python/site-packages (from pandas) (1.23.5)\n",
      "Requirement already satisfied: six>=1.5 in /Applications/Xcode.app/Contents/Developer/Library/Frameworks/Python3.framework/Versions/3.9/lib/python3.9/site-packages (from python-dateutil>=2.8.1->pandas) (1.15.0)\n",
      "\n",
      "\u001b[1m[\u001b[0m\u001b[34;49mnotice\u001b[0m\u001b[1;39;49m]\u001b[0m\u001b[39;49m A new release of pip is available: \u001b[0m\u001b[31;49m23.3.1\u001b[0m\u001b[39;49m -> \u001b[0m\u001b[32;49m24.2\u001b[0m\n",
      "\u001b[1m[\u001b[0m\u001b[34;49mnotice\u001b[0m\u001b[1;39;49m]\u001b[0m\u001b[39;49m To update, run: \u001b[0m\u001b[32;49m/Applications/Xcode.app/Contents/Developer/usr/bin/python3 -m pip install --upgrade pip\u001b[0m\n"
     ]
    }
   ],
   "source": [
    "!pip install pandas"
   ]
  }
 ],
 "metadata": {
  "kernelspec": {
   "display_name": "venv",
   "language": "python",
   "name": "python3"
  },
  "language_info": {
   "codemirror_mode": {
    "name": "ipython",
    "version": 3
   },
   "file_extension": ".py",
   "mimetype": "text/x-python",
   "name": "python",
   "nbconvert_exporter": "python",
   "pygments_lexer": "ipython3",
   "version": "3.6.0"
  }
 },
 "nbformat": 4,
 "nbformat_minor": 2
}
